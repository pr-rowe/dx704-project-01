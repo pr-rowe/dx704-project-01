{
  "cells": [
    {
      "cell_type": "markdown",
      "metadata": {
        "id": "Md413FzAvFD8"
      },
      "source": [
        "# DX 704 Week 6 Project\n",
        "\n",
        "This project will develop a treatment plan for a fictious illness \"Twizzleflu\".\n",
        "Twizzleflu is a mild illness caused by a virus.\n",
        "The main symptoms are a mild fever, fidgeting, and kicking the blankets off the bed or couch.\n",
        "Mild dehydration has also been reported in more severe cases.\n",
        "These symptoms typically last 1-2 weeks without treatment.\n",
        "Word on the internet says that Twizzleflu can be cured faster by drinking copious orange juice, but this has not been supported by evidence so far.\n",
        "You will be provided with a theoretical model of Twizzleflu modeled as a Markov decision process.\n",
        "Based on the model, you will compute optimal treatment plans to optimize different criteria, and compare patient discomfort with the different plans."
      ]
    },
    {
      "cell_type": "markdown",
      "metadata": {
        "id": "kzyRo9Tw5VcB"
      },
      "source": [
        "The full project description, a template notebook, and raw data are available on GitHub: [Project 6 Materials](https://github.com/bu-cds-dx704/dx704-project-06)."
      ]
    },
    {
      "cell_type": "markdown",
      "metadata": {
        "id": "tGYOZcnP6Vfu"
      },
      "source": [
        "We will model Twizzleflu as a Markov decision process.\n",
        "The model transition probabilities are provided in the file \"twizzleflu-transitions.tsv\" and the expected rewards are in \"twizzleflu-rewards.tsv\".\n",
        "The goal for Twizzleflu is to minimize the expected discomfort of the patient which is expressed as negative rewards in the file."
      ]
    },
    {
      "cell_type": "markdown",
      "metadata": {
        "id": "dlm2sUsades5"
      },
      "source": [
        "## Example Code\n",
        "\n",
        "You may find it helpful to refer to these GitHub repositories of Jupyter notebooks for example code.\n",
        "\n",
        "* https://github.com/bu-cds-omds/dx601-examples\n",
        "* https://github.com/bu-cds-omds/dx602-examples\n",
        "* https://github.com/bu-cds-omds/dx603-examples\n",
        "* https://github.com/bu-cds-omds/dx704-examples\n",
        "\n",
        "Any calculations demonstrated in code examples or videos may be found in these notebooks, and you are allowed to copy this example code in your homework answers."
      ]
    },
    {
      "cell_type": "markdown",
      "metadata": {
        "id": "C8oSLkMqvMFF"
      },
      "source": [
        "## Part 1: Evaluate a Do Nothing Plan\n",
        "\n",
        "One of the treatment actions is to do nothing.\n",
        "Calculate the expected discomfort (not rewards) of a policy that always does nothing."
      ]
    },
    {
      "cell_type": "markdown",
      "metadata": {
        "id": "cvG4mi_sAF9A"
      },
      "source": [
        "Hint: for this value calculation and later ones, use value iteration.\n",
        "The analytical solution has difficulties in practice when there is no discount factor."
      ]
    },
    {
      "cell_type": "code",
      "execution_count": 167,
      "metadata": {
        "id": "RVfnE8vf8yIl"
      },
      "outputs": [],
      "source": [
        "# YOUR CHANGES HERE\n",
        "import pandas as pd\n",
        "import numpy as np\n",
        "\n",
        "transitions = pd.read_csv(\"twizzleflu-transitions.tsv\", sep=\"\\t\")\n",
        "rewards = pd.read_csv(\"twizzleflu-rewards.tsv\", sep=\"\\t\")\n",
        "\n",
        "def compute_qT_once(R, P, gamma, v):\n",
        "    return R + gamma * (P @ v)\n",
        "\n",
        "def iterate_values_once(R, P, gamma, v):\n",
        "    return np.max(compute_qT_once(R, P, gamma, v), axis=0)\n",
        "\n",
        "def value_iteration(R, P, gamma, max_iterations=1000, tolerance=1e-12):\n",
        "    v_old = np.zeros(R.shape[-1], dtype=float)\n",
        "    for _ in range(max_iterations):\n",
        "        v_new = iterate_values_once(R, P, gamma, v_old)\n",
        "        if np.max(np.abs(v_new - v_old)) < tolerance:\n",
        "            return v_new\n",
        "        v_old = v_new\n",
        "    return v_old"
      ]
    },
    {
      "cell_type": "code",
      "execution_count": 168,
      "metadata": {},
      "outputs": [
        {
          "data": {
            "text/html": [
              "<div>\n",
              "<style scoped>\n",
              "    .dataframe tbody tr th:only-of-type {\n",
              "        vertical-align: middle;\n",
              "    }\n",
              "\n",
              "    .dataframe tbody tr th {\n",
              "        vertical-align: top;\n",
              "    }\n",
              "\n",
              "    .dataframe thead th {\n",
              "        text-align: right;\n",
              "    }\n",
              "</style>\n",
              "<table border=\"1\" class=\"dataframe\">\n",
              "  <thead>\n",
              "    <tr style=\"text-align: right;\">\n",
              "      <th></th>\n",
              "      <th>state</th>\n",
              "      <th>expected_discomfort</th>\n",
              "    </tr>\n",
              "  </thead>\n",
              "  <tbody>\n",
              "    <tr>\n",
              "      <th>0</th>\n",
              "      <td>exposed-1</td>\n",
              "      <td>3.413333</td>\n",
              "    </tr>\n",
              "    <tr>\n",
              "      <th>1</th>\n",
              "      <td>exposed-2</td>\n",
              "      <td>4.266667</td>\n",
              "    </tr>\n",
              "    <tr>\n",
              "      <th>2</th>\n",
              "      <td>exposed-3</td>\n",
              "      <td>5.333333</td>\n",
              "    </tr>\n",
              "    <tr>\n",
              "      <th>3</th>\n",
              "      <td>symptoms-1</td>\n",
              "      <td>6.666667</td>\n",
              "    </tr>\n",
              "    <tr>\n",
              "      <th>4</th>\n",
              "      <td>symptoms-2</td>\n",
              "      <td>5.000000</td>\n",
              "    </tr>\n",
              "    <tr>\n",
              "      <th>5</th>\n",
              "      <td>symptoms-3</td>\n",
              "      <td>1.666667</td>\n",
              "    </tr>\n",
              "    <tr>\n",
              "      <th>6</th>\n",
              "      <td>recovered</td>\n",
              "      <td>-0.000000</td>\n",
              "    </tr>\n",
              "  </tbody>\n",
              "</table>\n",
              "</div>"
            ],
            "text/plain": [
              "        state  expected_discomfort\n",
              "0   exposed-1             3.413333\n",
              "1   exposed-2             4.266667\n",
              "2   exposed-3             5.333333\n",
              "3  symptoms-1             6.666667\n",
              "4  symptoms-2             5.000000\n",
              "5  symptoms-3             1.666667\n",
              "6   recovered            -0.000000"
            ]
          },
          "execution_count": 168,
          "metadata": {},
          "output_type": "execute_result"
        }
      ],
      "source": [
        "\n",
        "P_df = transitions.query('action == \"do-nothing\"')[[\"state\",\"next_state\",\"probability\"]]\n",
        "R_df = rewards.query('action == \"do-nothing\"')[[\"state\",\"reward\"]]\n",
        "\n",
        "states = sorted(set(P_df[\"state\"]).union(P_df[\"next_state\"]))\n",
        "states = [s for s in states if s != \"recovered\"] + [\"recovered\"]\n",
        "\n",
        "M = (P_df.pivot_table(index=\"state\", columns=\"next_state\",\n",
        "                      values=\"probability\", aggfunc=\"sum\")\n",
        "        .reindex(index=states, columns=states, fill_value=0.0)\n",
        "        .fillna(0.0))\n",
        "\n",
        "r_vec = (R_df.set_index(\"state\")[\"reward\"]\n",
        "           .reindex(states).fillna(0.0))\n",
        "\n",
        "P = M.to_numpy()[None, :, :]\n",
        "R = r_vec.to_numpy()[None, :]\n",
        "\n",
        "gamma = 1.0\n",
        "V = value_iteration(R, P, gamma)\n",
        "if \"recovered\" in states:\n",
        "    V[states.index(\"recovered\")] = 0.0\n",
        "\n",
        "out_1 = pd.DataFrame({\"state\": states, \"expected_discomfort\": -V})\n",
        "out_1.to_csv(\"do-nothing-discomfort.tsv\", sep=\"\\t\", index=False)\n",
        "out_1\n"
      ]
    },
    {
      "cell_type": "markdown",
      "metadata": {
        "id": "oji9gHEk8ytE"
      },
      "source": [
        "Save the expected discomfort by state to a file \"do-nothing-discomfort.tsv\" with columns state and expected_discomfort."
      ]
    },
    {
      "cell_type": "markdown",
      "metadata": {
        "id": "7-8sGANC-Dzs"
      },
      "source": [
        "Submit \"do-nothing-discomfort.tsv\" in Gradescope."
      ]
    },
    {
      "cell_type": "markdown",
      "metadata": {
        "id": "RJ1ietVp9BCS"
      },
      "source": [
        "## Part 2: Compute an Optimal Treatment Plan\n",
        "\n",
        "Compute an optimal treatment plan for Twizzleflu.\n",
        "It should minimize the expected discomfort (maximize the rewards)."
      ]
    },
    {
      "cell_type": "code",
      "execution_count": 169,
      "metadata": {
        "id": "6fdjt6qk9mZM"
      },
      "outputs": [],
      "source": [
        "# YOUR CHANGES HERE\n",
        "\n",
        "def iterative_policy_evaluation(R, P, gamma, pi, max_iterations=100, tolerance=0.001):\n",
        "    # factor out action choices using policy.\n",
        "\n",
        "    # deterministic version\n",
        "    n = R.shape[-1]\n",
        "    R_pi = R[pi, np.arange(n)]\n",
        "    P_pi = P[pi, np.arange(n),:]\n",
        "\n",
        "    # reshape to one dummy action to reuse previous example code\n",
        "    R_pi = R_pi.reshape(1, *R_pi.shape)\n",
        "    P_pi = P_pi.reshape(1, *P_pi.shape)\n",
        "\n",
        "    # initial approximation v_0\n",
        "    v_old = np.zeros(R.shape[-1])\n",
        "\n",
        "    for i in range(max_iterations):\n",
        "        # compute v_{i+1}\n",
        "        v_new = iterate_values_once(R_pi, P_pi, gamma, v_old)\n",
        "\n",
        "        # check if values did not change much\n",
        "        if np.max(np.abs(v_new - v_old)) < tolerance:\n",
        "            return v_new\n",
        "\n",
        "        v_old = v_new\n",
        "\n",
        "    # return v_{max_iterations}\n",
        "    return v_old\n",
        "\n",
        "def policy_iteration_baseline(R, P, gamma, max_iterations=100, tolerance=0.001):\n",
        "    pi_old = np.zeros(R.shape[-1], dtype=\"int64\")\n",
        "    v_old = iterative_policy_evaluation(R, P, gamma, pi_old)\n",
        "\n",
        "    for i in range(max_iterations):\n",
        "        # compute new policy\n",
        "        pi_new = np.argmax(compute_qT_once(R, P, gamma, v_old), axis=0)\n",
        "        if np.array_equal(pi_new, pi_old):\n",
        "            return pi_new, v_old\n",
        "\n",
        "        # compute new values\n",
        "        v_new = iterative_policy_evaluation(R, P, gamma, pi_new)\n",
        "        if np.max(np.abs(v_new - v_old)) < tolerance:\n",
        "            return pi_new, v_new\n",
        "\n",
        "        pi_old = pi_new\n",
        "        v_old = v_new\n",
        "\n",
        "    return pi_old, v_old"
      ]
    },
    {
      "cell_type": "code",
      "execution_count": 170,
      "metadata": {},
      "outputs": [],
      "source": [
        "\n",
        "A = sorted(transitions[\"action\"].unique())\n",
        "S = sorted(set(transitions[\"state\"]).union(transitions[\"next_state\"]))\n",
        "\n",
        "\n",
        "P = (transitions\n",
        "     .pivot_table(index=[\"action\",\"state\"], columns=\"next_state\",\n",
        "                  values=\"probability\", aggfunc=\"sum\")\n",
        "     .reindex(pd.MultiIndex.from_product([A, S], names=[\"action\",\"state\"]))\n",
        "     .reindex(columns=S, fill_value=0.0)\n",
        "     .fillna(0.0)\n",
        "     .to_numpy()\n",
        "     .reshape(len(A), len(S), len(S)))\n",
        "\n",
        "R = (rewards\n",
        "     .pivot_table(index=[\"action\",\"state\"], values=\"reward\", aggfunc=\"sum\")\n",
        "     .reindex(pd.MultiIndex.from_product([A, S], names=[\"action\",\"state\"]))\n",
        "     .fillna(0.0)\n",
        "     .to_numpy()\n",
        "     .reshape(len(A), len(S)))\n",
        "\n",
        "gamma = 1.0\n",
        "pi_star_idx, v_star = policy_iteration_baseline(R, P, gamma)\n",
        "\n"
      ]
    },
    {
      "cell_type": "markdown",
      "metadata": {
        "id": "PRcByl1h9nBf"
      },
      "source": [
        "Save the optimal actions for each state to a file \"minimum-discomfort-actions.tsv\" with columns state and action."
      ]
    },
    {
      "cell_type": "code",
      "execution_count": 171,
      "metadata": {
        "id": "FhAajvpX9wru"
      },
      "outputs": [
        {
          "data": {
            "text/html": [
              "<div>\n",
              "<style scoped>\n",
              "    .dataframe tbody tr th:only-of-type {\n",
              "        vertical-align: middle;\n",
              "    }\n",
              "\n",
              "    .dataframe tbody tr th {\n",
              "        vertical-align: top;\n",
              "    }\n",
              "\n",
              "    .dataframe thead th {\n",
              "        text-align: right;\n",
              "    }\n",
              "</style>\n",
              "<table border=\"1\" class=\"dataframe\">\n",
              "  <thead>\n",
              "    <tr style=\"text-align: right;\">\n",
              "      <th></th>\n",
              "      <th>state</th>\n",
              "      <th>action</th>\n",
              "    </tr>\n",
              "  </thead>\n",
              "  <tbody>\n",
              "    <tr>\n",
              "      <th>0</th>\n",
              "      <td>exposed-1</td>\n",
              "      <td>sleep-8</td>\n",
              "    </tr>\n",
              "    <tr>\n",
              "      <th>1</th>\n",
              "      <td>exposed-2</td>\n",
              "      <td>sleep-8</td>\n",
              "    </tr>\n",
              "    <tr>\n",
              "      <th>2</th>\n",
              "      <td>exposed-3</td>\n",
              "      <td>sleep-8</td>\n",
              "    </tr>\n",
              "    <tr>\n",
              "      <th>3</th>\n",
              "      <td>recovered</td>\n",
              "      <td>do-nothing</td>\n",
              "    </tr>\n",
              "    <tr>\n",
              "      <th>4</th>\n",
              "      <td>symptoms-1</td>\n",
              "      <td>drink-oj</td>\n",
              "    </tr>\n",
              "    <tr>\n",
              "      <th>5</th>\n",
              "      <td>symptoms-2</td>\n",
              "      <td>drink-oj</td>\n",
              "    </tr>\n",
              "    <tr>\n",
              "      <th>6</th>\n",
              "      <td>symptoms-3</td>\n",
              "      <td>drink-oj</td>\n",
              "    </tr>\n",
              "  </tbody>\n",
              "</table>\n",
              "</div>"
            ],
            "text/plain": [
              "        state      action\n",
              "0   exposed-1     sleep-8\n",
              "1   exposed-2     sleep-8\n",
              "2   exposed-3     sleep-8\n",
              "3   recovered  do-nothing\n",
              "4  symptoms-1    drink-oj\n",
              "5  symptoms-2    drink-oj\n",
              "6  symptoms-3    drink-oj"
            ]
          },
          "execution_count": 171,
          "metadata": {},
          "output_type": "execute_result"
        }
      ],
      "source": [
        "# YOUR CHANGES HERE\n",
        "\n",
        "policy_2 = pd.DataFrame({\n",
        "    \"state\": S,\n",
        "    \"action\": [A[i] for i in pi_star_idx]\n",
        "})\n",
        "policy_2.loc[policy_2[\"state\"] == \"recovered\", \"action\"] = \"do-nothing\"\n",
        "\n",
        "policy_2.to_csv(\"minimum-discomfort-actions.tsv\", sep=\"\\t\", index=False)\n",
        "policy_2\n"
      ]
    },
    {
      "cell_type": "markdown",
      "metadata": {
        "id": "sr00MlhL-Hdv"
      },
      "source": [
        "Submit \"minimum-discomfort-actions.tsv\" in Gradescope."
      ]
    },
    {
      "cell_type": "markdown",
      "metadata": {
        "id": "65p3NRTy9xjT"
      },
      "source": [
        "## Part 3: Expected Discomfort\n",
        "\n",
        "Using your previous optimal policy, compute the expected discomfort for each state."
      ]
    },
    {
      "cell_type": "code",
      "execution_count": 172,
      "metadata": {
        "id": "t5bHbK24-AhQ"
      },
      "outputs": [],
      "source": [
        "# YOUR CHANGES HERE\n",
        "import numpy as np\n",
        "import pandas as pd\n",
        "\n",
        "v_opt = iterative_policy_evaluation(R, P, gamma, pi_star_idx)\n"
      ]
    },
    {
      "cell_type": "markdown",
      "metadata": {
        "id": "Er6-0c0f-BGw"
      },
      "source": [
        "Save your results in a file \"minimum-discomfort-values.tsv\" with columns state and expected_discomfort."
      ]
    },
    {
      "cell_type": "code",
      "execution_count": 173,
      "metadata": {
        "id": "NAQFQnp_-TZ1"
      },
      "outputs": [
        {
          "data": {
            "text/html": [
              "<div>\n",
              "<style scoped>\n",
              "    .dataframe tbody tr th:only-of-type {\n",
              "        vertical-align: middle;\n",
              "    }\n",
              "\n",
              "    .dataframe tbody tr th {\n",
              "        vertical-align: top;\n",
              "    }\n",
              "\n",
              "    .dataframe thead th {\n",
              "        text-align: right;\n",
              "    }\n",
              "</style>\n",
              "<table border=\"1\" class=\"dataframe\">\n",
              "  <thead>\n",
              "    <tr style=\"text-align: right;\">\n",
              "      <th></th>\n",
              "      <th>state</th>\n",
              "      <th>expected_discomfort</th>\n",
              "    </tr>\n",
              "  </thead>\n",
              "  <tbody>\n",
              "    <tr>\n",
              "      <th>0</th>\n",
              "      <td>exposed-1</td>\n",
              "      <td>0.749165</td>\n",
              "    </tr>\n",
              "    <tr>\n",
              "      <th>1</th>\n",
              "      <td>exposed-2</td>\n",
              "      <td>1.498689</td>\n",
              "    </tr>\n",
              "    <tr>\n",
              "      <th>2</th>\n",
              "      <td>exposed-3</td>\n",
              "      <td>2.997944</td>\n",
              "    </tr>\n",
              "    <tr>\n",
              "      <th>3</th>\n",
              "      <td>recovered</td>\n",
              "      <td>-0.000000</td>\n",
              "    </tr>\n",
              "    <tr>\n",
              "      <th>4</th>\n",
              "      <td>symptoms-1</td>\n",
              "      <td>5.996779</td>\n",
              "    </tr>\n",
              "    <tr>\n",
              "      <th>5</th>\n",
              "      <td>symptoms-2</td>\n",
              "      <td>4.499580</td>\n",
              "    </tr>\n",
              "    <tr>\n",
              "      <th>6</th>\n",
              "      <td>symptoms-3</td>\n",
              "      <td>1.499973</td>\n",
              "    </tr>\n",
              "  </tbody>\n",
              "</table>\n",
              "</div>"
            ],
            "text/plain": [
              "        state  expected_discomfort\n",
              "0   exposed-1             0.749165\n",
              "1   exposed-2             1.498689\n",
              "2   exposed-3             2.997944\n",
              "3   recovered            -0.000000\n",
              "4  symptoms-1             5.996779\n",
              "5  symptoms-2             4.499580\n",
              "6  symptoms-3             1.499973"
            ]
          },
          "execution_count": 173,
          "metadata": {},
          "output_type": "execute_result"
        }
      ],
      "source": [
        "# YOUR CHANGES HERE\n",
        "\n",
        "out_3 = pd.DataFrame({\"state\": S, \"expected_discomfort\": -v_opt})\n",
        "out_3.to_csv(\"minimum-discomfort-values.tsv\", sep=\"\\t\", index=False)\n",
        "out_3"
      ]
    },
    {
      "cell_type": "markdown",
      "metadata": {
        "id": "83wnFZfk-UDd"
      },
      "source": [
        "Submit \"minimum-discomfort-values.tsv\" in Gradescope."
      ]
    },
    {
      "cell_type": "markdown",
      "metadata": {
        "id": "CKUTt9gx-XBF"
      },
      "source": [
        "## Part 4: Minimizing Twizzleflu Duration\n",
        "\n",
        "Modifiy the Markov decision process to minimize the days until the Twizzle flu is over.\n",
        "To do so, change the reward function to always be -1 if the current state corresponds to being sick and 0 if the current state corresponds to being better.\n",
        "To be clear, the action does not matter for this reward function.\n"
      ]
    },
    {
      "cell_type": "code",
      "execution_count": 174,
      "metadata": {
        "id": "HXrnkCh5-trk"
      },
      "outputs": [],
      "source": [
        "# YOUR CHANGES HERE\n",
        "\n",
        "rows = [\n",
        "    {\"action\": a, \"state\": s, \"reward\": (0.0 if s == \"recovered\" else -1.0)}\n",
        "    for a in A for s in S\n",
        "]"
      ]
    },
    {
      "cell_type": "markdown",
      "metadata": {
        "id": "je9Rt239-uRl"
      },
      "source": [
        "Save your new reward function in a file \"duration-rewards.tsv\" in the same format as \"twizzleflu-rewards.tsv\"."
      ]
    },
    {
      "cell_type": "code",
      "execution_count": 175,
      "metadata": {
        "id": "_cmV1ewj-4-Q"
      },
      "outputs": [
        {
          "data": {
            "text/html": [
              "<div>\n",
              "<style scoped>\n",
              "    .dataframe tbody tr th:only-of-type {\n",
              "        vertical-align: middle;\n",
              "    }\n",
              "\n",
              "    .dataframe tbody tr th {\n",
              "        vertical-align: top;\n",
              "    }\n",
              "\n",
              "    .dataframe thead th {\n",
              "        text-align: right;\n",
              "    }\n",
              "</style>\n",
              "<table border=\"1\" class=\"dataframe\">\n",
              "  <thead>\n",
              "    <tr style=\"text-align: right;\">\n",
              "      <th></th>\n",
              "      <th>action</th>\n",
              "      <th>state</th>\n",
              "      <th>reward</th>\n",
              "    </tr>\n",
              "  </thead>\n",
              "  <tbody>\n",
              "    <tr>\n",
              "      <th>0</th>\n",
              "      <td>do-nothing</td>\n",
              "      <td>exposed-1</td>\n",
              "      <td>-1.0</td>\n",
              "    </tr>\n",
              "    <tr>\n",
              "      <th>1</th>\n",
              "      <td>do-nothing</td>\n",
              "      <td>exposed-2</td>\n",
              "      <td>-1.0</td>\n",
              "    </tr>\n",
              "    <tr>\n",
              "      <th>2</th>\n",
              "      <td>do-nothing</td>\n",
              "      <td>exposed-3</td>\n",
              "      <td>-1.0</td>\n",
              "    </tr>\n",
              "    <tr>\n",
              "      <th>3</th>\n",
              "      <td>do-nothing</td>\n",
              "      <td>recovered</td>\n",
              "      <td>0.0</td>\n",
              "    </tr>\n",
              "    <tr>\n",
              "      <th>4</th>\n",
              "      <td>do-nothing</td>\n",
              "      <td>symptoms-1</td>\n",
              "      <td>-1.0</td>\n",
              "    </tr>\n",
              "    <tr>\n",
              "      <th>5</th>\n",
              "      <td>do-nothing</td>\n",
              "      <td>symptoms-2</td>\n",
              "      <td>-1.0</td>\n",
              "    </tr>\n",
              "    <tr>\n",
              "      <th>6</th>\n",
              "      <td>do-nothing</td>\n",
              "      <td>symptoms-3</td>\n",
              "      <td>-1.0</td>\n",
              "    </tr>\n",
              "    <tr>\n",
              "      <th>7</th>\n",
              "      <td>drink-oj</td>\n",
              "      <td>exposed-1</td>\n",
              "      <td>-1.0</td>\n",
              "    </tr>\n",
              "    <tr>\n",
              "      <th>8</th>\n",
              "      <td>drink-oj</td>\n",
              "      <td>exposed-2</td>\n",
              "      <td>-1.0</td>\n",
              "    </tr>\n",
              "    <tr>\n",
              "      <th>9</th>\n",
              "      <td>drink-oj</td>\n",
              "      <td>exposed-3</td>\n",
              "      <td>-1.0</td>\n",
              "    </tr>\n",
              "    <tr>\n",
              "      <th>10</th>\n",
              "      <td>drink-oj</td>\n",
              "      <td>recovered</td>\n",
              "      <td>0.0</td>\n",
              "    </tr>\n",
              "    <tr>\n",
              "      <th>11</th>\n",
              "      <td>drink-oj</td>\n",
              "      <td>symptoms-1</td>\n",
              "      <td>-1.0</td>\n",
              "    </tr>\n",
              "    <tr>\n",
              "      <th>12</th>\n",
              "      <td>drink-oj</td>\n",
              "      <td>symptoms-2</td>\n",
              "      <td>-1.0</td>\n",
              "    </tr>\n",
              "    <tr>\n",
              "      <th>13</th>\n",
              "      <td>drink-oj</td>\n",
              "      <td>symptoms-3</td>\n",
              "      <td>-1.0</td>\n",
              "    </tr>\n",
              "    <tr>\n",
              "      <th>14</th>\n",
              "      <td>sleep-8</td>\n",
              "      <td>exposed-1</td>\n",
              "      <td>-1.0</td>\n",
              "    </tr>\n",
              "    <tr>\n",
              "      <th>15</th>\n",
              "      <td>sleep-8</td>\n",
              "      <td>exposed-2</td>\n",
              "      <td>-1.0</td>\n",
              "    </tr>\n",
              "    <tr>\n",
              "      <th>16</th>\n",
              "      <td>sleep-8</td>\n",
              "      <td>exposed-3</td>\n",
              "      <td>-1.0</td>\n",
              "    </tr>\n",
              "    <tr>\n",
              "      <th>17</th>\n",
              "      <td>sleep-8</td>\n",
              "      <td>recovered</td>\n",
              "      <td>0.0</td>\n",
              "    </tr>\n",
              "    <tr>\n",
              "      <th>18</th>\n",
              "      <td>sleep-8</td>\n",
              "      <td>symptoms-1</td>\n",
              "      <td>-1.0</td>\n",
              "    </tr>\n",
              "    <tr>\n",
              "      <th>19</th>\n",
              "      <td>sleep-8</td>\n",
              "      <td>symptoms-2</td>\n",
              "      <td>-1.0</td>\n",
              "    </tr>\n",
              "    <tr>\n",
              "      <th>20</th>\n",
              "      <td>sleep-8</td>\n",
              "      <td>symptoms-3</td>\n",
              "      <td>-1.0</td>\n",
              "    </tr>\n",
              "  </tbody>\n",
              "</table>\n",
              "</div>"
            ],
            "text/plain": [
              "        action       state  reward\n",
              "0   do-nothing   exposed-1    -1.0\n",
              "1   do-nothing   exposed-2    -1.0\n",
              "2   do-nothing   exposed-3    -1.0\n",
              "3   do-nothing   recovered     0.0\n",
              "4   do-nothing  symptoms-1    -1.0\n",
              "5   do-nothing  symptoms-2    -1.0\n",
              "6   do-nothing  symptoms-3    -1.0\n",
              "7     drink-oj   exposed-1    -1.0\n",
              "8     drink-oj   exposed-2    -1.0\n",
              "9     drink-oj   exposed-3    -1.0\n",
              "10    drink-oj   recovered     0.0\n",
              "11    drink-oj  symptoms-1    -1.0\n",
              "12    drink-oj  symptoms-2    -1.0\n",
              "13    drink-oj  symptoms-3    -1.0\n",
              "14     sleep-8   exposed-1    -1.0\n",
              "15     sleep-8   exposed-2    -1.0\n",
              "16     sleep-8   exposed-3    -1.0\n",
              "17     sleep-8   recovered     0.0\n",
              "18     sleep-8  symptoms-1    -1.0\n",
              "19     sleep-8  symptoms-2    -1.0\n",
              "20     sleep-8  symptoms-3    -1.0"
            ]
          },
          "execution_count": 175,
          "metadata": {},
          "output_type": "execute_result"
        }
      ],
      "source": [
        "# YOUR CHANGES HERE\n",
        "\n",
        "duration_rewards = pd.DataFrame(rows, columns=[\"action\", \"state\", \"reward\"])\n",
        "duration_rewards.to_csv(\"duration-rewards.tsv\", sep=\"\\t\", index=False)\n",
        "duration_rewards"
      ]
    },
    {
      "cell_type": "markdown",
      "metadata": {
        "id": "r0lubs9v-5XQ"
      },
      "source": [
        "Submit \"duration-rewards.tsv\" in Gradescope."
      ]
    },
    {
      "cell_type": "markdown",
      "metadata": {
        "id": "Jf73YFzB-802"
      },
      "source": [
        "## Part 5: Optimize for Shorter Twizzleflu\n",
        "\n",
        "Compute an optimal policy to minimize the duration of Twizzleflu."
      ]
    },
    {
      "cell_type": "code",
      "execution_count": 176,
      "metadata": {
        "id": "Sa_HI0f0_FHA"
      },
      "outputs": [],
      "source": [
        "# YOUR CHANGES HERE\n",
        "\n",
        "duration_rewards = pd.read_csv(\"duration-rewards.tsv\", sep=\"\\t\")\n",
        "\n",
        "R_5 = (duration_rewards\n",
        "     .pivot_table(index=[\"action\",\"state\"], values=\"reward\", aggfunc=\"sum\")\n",
        "     .reindex(pd.MultiIndex.from_product([A, S], names=[\"action\",\"state\"]))\n",
        "     .fillna(0.0)\n",
        "     .to_numpy()\n",
        "     .reshape(len(A), len(S)))\n",
        "\n",
        "pi_star_idx, v_star = policy_iteration_baseline(R_5, P, gamma)\n",
        "\n",
        "policy_5 = pd.DataFrame({\"state\": S, \"action\": [A[i] for i in pi_star_idx]})\n",
        "policy_5.loc[policy_5[\"state\"] == \"recovered\", \"action\"] = \"do-nothing\"\n",
        "\n"
      ]
    },
    {
      "cell_type": "markdown",
      "metadata": {
        "id": "px1xDndA_F3O"
      },
      "source": [
        "Save the optimal actions for each state to a file \"minimum-duration-actions.tsv\" with columns state and action."
      ]
    },
    {
      "cell_type": "code",
      "execution_count": 177,
      "metadata": {
        "id": "PGvWqSiI_Sqy"
      },
      "outputs": [
        {
          "data": {
            "text/html": [
              "<div>\n",
              "<style scoped>\n",
              "    .dataframe tbody tr th:only-of-type {\n",
              "        vertical-align: middle;\n",
              "    }\n",
              "\n",
              "    .dataframe tbody tr th {\n",
              "        vertical-align: top;\n",
              "    }\n",
              "\n",
              "    .dataframe thead th {\n",
              "        text-align: right;\n",
              "    }\n",
              "</style>\n",
              "<table border=\"1\" class=\"dataframe\">\n",
              "  <thead>\n",
              "    <tr style=\"text-align: right;\">\n",
              "      <th></th>\n",
              "      <th>state</th>\n",
              "      <th>action</th>\n",
              "    </tr>\n",
              "  </thead>\n",
              "  <tbody>\n",
              "    <tr>\n",
              "      <th>0</th>\n",
              "      <td>exposed-1</td>\n",
              "      <td>sleep-8</td>\n",
              "    </tr>\n",
              "    <tr>\n",
              "      <th>1</th>\n",
              "      <td>exposed-2</td>\n",
              "      <td>sleep-8</td>\n",
              "    </tr>\n",
              "    <tr>\n",
              "      <th>2</th>\n",
              "      <td>exposed-3</td>\n",
              "      <td>sleep-8</td>\n",
              "    </tr>\n",
              "    <tr>\n",
              "      <th>3</th>\n",
              "      <td>recovered</td>\n",
              "      <td>do-nothing</td>\n",
              "    </tr>\n",
              "    <tr>\n",
              "      <th>4</th>\n",
              "      <td>symptoms-1</td>\n",
              "      <td>do-nothing</td>\n",
              "    </tr>\n",
              "    <tr>\n",
              "      <th>5</th>\n",
              "      <td>symptoms-2</td>\n",
              "      <td>do-nothing</td>\n",
              "    </tr>\n",
              "    <tr>\n",
              "      <th>6</th>\n",
              "      <td>symptoms-3</td>\n",
              "      <td>do-nothing</td>\n",
              "    </tr>\n",
              "  </tbody>\n",
              "</table>\n",
              "</div>"
            ],
            "text/plain": [
              "        state      action\n",
              "0   exposed-1     sleep-8\n",
              "1   exposed-2     sleep-8\n",
              "2   exposed-3     sleep-8\n",
              "3   recovered  do-nothing\n",
              "4  symptoms-1  do-nothing\n",
              "5  symptoms-2  do-nothing\n",
              "6  symptoms-3  do-nothing"
            ]
          },
          "execution_count": 177,
          "metadata": {},
          "output_type": "execute_result"
        }
      ],
      "source": [
        "# YOUR CHANGES HERE\n",
        "\n",
        "policy_5.to_csv(\"minimum-duration-actions.tsv\", sep=\"\\t\", index=False)\n",
        "policy_5"
      ]
    },
    {
      "cell_type": "markdown",
      "metadata": {
        "id": "itPVLMaM_UDn"
      },
      "source": [
        "Submit \"minimum-duration-actions.tsv\" in Gradescope."
      ]
    },
    {
      "cell_type": "markdown",
      "metadata": {
        "id": "eOzSQ3fV_XBO"
      },
      "source": [
        "## Part 6: Shorter Twizzleflu?\n",
        "\n",
        "Compute the expected number of days sick for each state to a file."
      ]
    },
    {
      "cell_type": "code",
      "execution_count": 178,
      "metadata": {
        "id": "WO_yubXg_gxn"
      },
      "outputs": [],
      "source": [
        "# YOUR CHANGES HERE\n",
        "\n",
        "pi_star_idx, v_star = policy_iteration_baseline(R_5, P, gamma)"
      ]
    },
    {
      "cell_type": "markdown",
      "metadata": {
        "id": "_Zf8j6_D_hbZ"
      },
      "source": [
        "Save the expected sick days for each state to a file \"minimum-duration-days.tsv\" with columns state and expected_sick_days."
      ]
    },
    {
      "cell_type": "code",
      "execution_count": 179,
      "metadata": {
        "id": "yWS2HNVl_o3P"
      },
      "outputs": [],
      "source": [
        "# YOUR CHANGES HERE\n",
        "\n",
        "pd.DataFrame({\"state\": S, \"expected_sick_days\": -v_star}) \\\n",
        "  .to_csv(\"minimum-duration-days.tsv\", sep=\"\\t\", index=False)"
      ]
    },
    {
      "cell_type": "markdown",
      "metadata": {
        "id": "SVApozXF_pjI"
      },
      "source": [
        "Submit \"minimum-duration-days.tsv\" in Gradescope."
      ]
    },
    {
      "cell_type": "markdown",
      "metadata": {
        "id": "Znw87KK7_uv5"
      },
      "source": [
        "## Part 7: Speed vs Pampering\n",
        "\n",
        "Compute the expected discomfort using the policy to minimize days sick, and compare the results to the expected discomfort when optimizing to minimize discomfort."
      ]
    },
    {
      "cell_type": "code",
      "execution_count": 180,
      "metadata": {
        "id": "0AdnpD-6__y5"
      },
      "outputs": [],
      "source": [
        "# YOUR CHANGES HERE\n",
        "\n",
        "R_orig = (rewards\n",
        "          .pivot_table(index=[\"action\",\"state\"], values=\"reward\", aggfunc=\"sum\")\n",
        "          .reindex(pd.MultiIndex.from_product([A, S], names=[\"action\",\"state\"]))\n",
        "          .fillna(0.0).to_numpy().reshape(len(A), len(S)))\n",
        "\n",
        "duration_rewards = pd.read_csv(\"duration-rewards.tsv\", sep=\"\\t\")\n",
        "R_dur = (duration_rewards\n",
        "         .pivot_table(index=[\"action\",\"state\"], values=\"reward\", aggfunc=\"sum\")\n",
        "         .reindex(pd.MultiIndex.from_product([A, S], names=[\"action\",\"state\"]))\n",
        "         .fillna(0.0).to_numpy().reshape(len(A), len(S)))\n",
        "\n",
        "pi_speed, _      = policy_iteration_baseline(R_dur,  P, gamma)\n",
        "pi_comfort, v_c  = policy_iteration_baseline(R_orig, P, gamma)\n",
        "\n",
        "v_speed_eval   = iterative_policy_evaluation(R_orig, P, gamma, pi_speed)\n",
        "v_comfort_eval = iterative_policy_evaluation(R_orig, P, gamma, pi_comfort)\n",
        "\n",
        "speed_discomfort    = -v_speed_eval.copy()\n",
        "minimize_discomfort = -v_comfort_eval.copy()\n",
        "\n",
        "if \"recovered\" in S:\n",
        "    speed_discomfort[S.index(\"recovered\")] = 0.0\n",
        "    minimize_discomfort[S.index(\"recovered\")] = 0.0"
      ]
    },
    {
      "cell_type": "markdown",
      "metadata": {
        "id": "M3ZVJ2lcAAkP"
      },
      "source": [
        "Save the results to a file \"policy-comparison.tsv\" with columns state, speed_discomfort, and minimize_discomfort."
      ]
    },
    {
      "cell_type": "code",
      "execution_count": 181,
      "metadata": {
        "id": "9H9EG0zTAMt1"
      },
      "outputs": [
        {
          "data": {
            "text/html": [
              "<div>\n",
              "<style scoped>\n",
              "    .dataframe tbody tr th:only-of-type {\n",
              "        vertical-align: middle;\n",
              "    }\n",
              "\n",
              "    .dataframe tbody tr th {\n",
              "        vertical-align: top;\n",
              "    }\n",
              "\n",
              "    .dataframe thead th {\n",
              "        text-align: right;\n",
              "    }\n",
              "</style>\n",
              "<table border=\"1\" class=\"dataframe\">\n",
              "  <thead>\n",
              "    <tr style=\"text-align: right;\">\n",
              "      <th></th>\n",
              "      <th>state</th>\n",
              "      <th>speed_discomfort</th>\n",
              "      <th>minimize_discomfort</th>\n",
              "    </tr>\n",
              "  </thead>\n",
              "  <tbody>\n",
              "    <tr>\n",
              "      <th>0</th>\n",
              "      <td>exposed-1</td>\n",
              "      <td>0.832556</td>\n",
              "      <td>0.749165</td>\n",
              "    </tr>\n",
              "    <tr>\n",
              "      <th>1</th>\n",
              "      <td>exposed-2</td>\n",
              "      <td>1.665517</td>\n",
              "      <td>1.498689</td>\n",
              "    </tr>\n",
              "    <tr>\n",
              "      <th>2</th>\n",
              "      <td>exposed-3</td>\n",
              "      <td>3.331634</td>\n",
              "      <td>2.997944</td>\n",
              "    </tr>\n",
              "    <tr>\n",
              "      <th>3</th>\n",
              "      <td>recovered</td>\n",
              "      <td>0.000000</td>\n",
              "      <td>0.000000</td>\n",
              "    </tr>\n",
              "    <tr>\n",
              "      <th>4</th>\n",
              "      <td>symptoms-1</td>\n",
              "      <td>6.664159</td>\n",
              "      <td>5.996779</td>\n",
              "    </tr>\n",
              "    <tr>\n",
              "      <th>5</th>\n",
              "      <td>symptoms-2</td>\n",
              "      <td>4.999692</td>\n",
              "      <td>4.499580</td>\n",
              "    </tr>\n",
              "    <tr>\n",
              "      <th>6</th>\n",
              "      <td>symptoms-3</td>\n",
              "      <td>1.666648</td>\n",
              "      <td>1.499973</td>\n",
              "    </tr>\n",
              "  </tbody>\n",
              "</table>\n",
              "</div>"
            ],
            "text/plain": [
              "        state  speed_discomfort  minimize_discomfort\n",
              "0   exposed-1          0.832556             0.749165\n",
              "1   exposed-2          1.665517             1.498689\n",
              "2   exposed-3          3.331634             2.997944\n",
              "3   recovered          0.000000             0.000000\n",
              "4  symptoms-1          6.664159             5.996779\n",
              "5  symptoms-2          4.999692             4.499580\n",
              "6  symptoms-3          1.666648             1.499973"
            ]
          },
          "execution_count": 181,
          "metadata": {},
          "output_type": "execute_result"
        }
      ],
      "source": [
        "# YOUR CHANGES HERE\n",
        "\n",
        "out_7 = pd.DataFrame({\n",
        "    \"state\": S,\n",
        "    \"speed_discomfort\":    speed_discomfort,\n",
        "    \"minimize_discomfort\": minimize_discomfort\n",
        "})\n",
        "out_7.to_csv(\"policy-comparison.tsv\", sep=\"\\t\", index=False)\n",
        "out_7"
      ]
    },
    {
      "cell_type": "markdown",
      "metadata": {
        "id": "EVhLZuuaANNf"
      },
      "source": [
        "Submit \"policy-comparison.tsv\" in Gradescope."
      ]
    },
    {
      "cell_type": "markdown",
      "metadata": {
        "id": "smsTLuFcvR-I"
      },
      "source": [
        "## Part 8: Code\n",
        "\n",
        "Please submit a Jupyter notebook that can reproduce all your calculations and recreate the previously submitted files."
      ]
    },
    {
      "cell_type": "markdown",
      "metadata": {
        "id": "zi8lV2pbvWMs"
      },
      "source": [
        "## Part 9: Acknowledgements\n",
        "\n",
        "If you discussed this assignment with anyone, please acknowledge them here.\n",
        "If you did this assignment completely on your own, simply write none below.\n",
        "\n",
        "If you used any libraries not mentioned in this module's content, please list them with a brief explanation what you used them for. If you did not use any other libraries, simply write none below.\n",
        "\n",
        "If you used any generative AI tools, please add links to your transcripts below, and any other information that you feel is necessary to comply with the generative AI policy. If you did not use any generative AI tools, simply write none below."
      ]
    }
  ],
  "metadata": {
    "colab": {
      "toc_visible": false
    },
    "kernelspec": {
      "display_name": "Python 3",
      "name": "python3"
    },
    "language_info": {
      "codemirror_mode": {
        "name": "ipython",
        "version": 3
      },
      "file_extension": ".py",
      "mimetype": "text/x-python",
      "name": "python",
      "nbconvert_exporter": "python",
      "pygments_lexer": "ipython3",
      "version": "3.12.1"
    }
  },
  "nbformat": 4,
  "nbformat_minor": 0
}
