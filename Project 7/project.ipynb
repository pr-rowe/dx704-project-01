{
  "cells": [
    {
      "cell_type": "markdown",
      "metadata": {
        "id": "Md413FzAvFD8"
      },
      "source": [
        "# DX 704 Week 7 Project\n",
        "\n",
        "This week's project will investigate issues in a quadcopter controller based using a linear quadratic regulator.\n",
        "You will start with an existing model of the system and logs from a quadcopter based on it, investigate discrepancies, and ultimately train a new model of the system dynamics."
      ]
    },
    {
      "cell_type": "markdown",
      "metadata": {
        "id": "PTIhFidP-KvD"
      },
      "source": [
        "The full project description and a template notebook are available on GitHub: [Project 7 Materials](https://github.com/bu-cds-dx704/dx704-project-07).\n"
      ]
    },
    {
      "cell_type": "markdown",
      "metadata": {
        "id": "52eGFDLZdsBy"
      },
      "source": [
        "## Example Code\n",
        "\n",
        "You may find it helpful to refer to these GitHub repositories of Jupyter notebooks for example code.\n",
        "\n",
        "* https://github.com/bu-cds-omds/dx601-examples\n",
        "* https://github.com/bu-cds-omds/dx602-examples\n",
        "* https://github.com/bu-cds-omds/dx603-examples\n",
        "* https://github.com/bu-cds-omds/dx704-examples\n",
        "\n",
        "Any calculations demonstrated in code examples or videos may be found in these notebooks, and you are allowed to copy this example code in your homework answers."
      ]
    },
    {
      "cell_type": "markdown",
      "metadata": {
        "id": "d7IKpQFK_AGF"
      },
      "source": [
        "## Introduction\n",
        "\n",
        "You've just joined a drone startup.\n",
        "On your first day, you join your new team to watch a test flight for a new quadcopter prototype.\n",
        "Watching the prototype fly, the team comments that it is not as smooth as usual and suspects that something is off in the controller.\n",
        "They provide you a copy of the dynamics model and log data from the prototype to investigate."
      ]
    },
    {
      "cell_type": "markdown",
      "metadata": {
        "id": "_Ks7EK6h3ktC"
      },
      "source": [
        "The quadcopter control model is a slightly more sophisticated version of the 1D quadcopter problem previously considered.\n",
        "\n",
        "The state vector $\\mathbf{x}_t$ now includes an acceleration component, and the action vector now has a servo control for the throttle instead of a raw force component.\n",
        "\\begin{array}{rcl}\n",
        "\\mathbf{x}_t & = & \\begin{bmatrix} x_t \\\\ v_t \\\\ a_t \\end{bmatrix} \\\\\n",
        "\\mathbf{u_t} & = & \\begin{bmatrix} u_t \\end{bmatrix}\n",
        "\\end{array}"
      ]
    },
    {
      "cell_type": "markdown",
      "metadata": {
        "id": "C8oSLkMqvMFF"
      },
      "source": [
        "## Part 1: Reconstruct the Control Matrix\n",
        "\n",
        "You are provided the dynamics model in the files `model-A.tsv`, `model-B.tsv`, `cost-Q.tsv` and `cost-R.tsv`.\n",
        "Recompute the control matrix $\\mathbf{K}$ to be used in the infinite horizon linear quadratic regulator problem."
      ]
    },
    {
      "cell_type": "code",
      "execution_count": 1,
      "metadata": {
        "id": "Pdpurx_Ym3F6"
      },
      "outputs": [
        {
          "data": {
            "text/html": [
              "<div>\n",
              "<style scoped>\n",
              "    .dataframe tbody tr th:only-of-type {\n",
              "        vertical-align: middle;\n",
              "    }\n",
              "\n",
              "    .dataframe tbody tr th {\n",
              "        vertical-align: top;\n",
              "    }\n",
              "\n",
              "    .dataframe thead th {\n",
              "        text-align: right;\n",
              "    }\n",
              "</style>\n",
              "<table border=\"1\" class=\"dataframe\">\n",
              "  <thead>\n",
              "    <tr style=\"text-align: right;\">\n",
              "      <th></th>\n",
              "      <th>x</th>\n",
              "      <th>v</th>\n",
              "      <th>a</th>\n",
              "      <th>u</th>\n",
              "    </tr>\n",
              "    <tr>\n",
              "      <th>index</th>\n",
              "      <th></th>\n",
              "      <th></th>\n",
              "      <th></th>\n",
              "      <th></th>\n",
              "    </tr>\n",
              "  </thead>\n",
              "  <tbody>\n",
              "    <tr>\n",
              "      <th>0</th>\n",
              "      <td>-5.000000e+00</td>\n",
              "      <td>0.000000e+00</td>\n",
              "      <td>0.000000e+00</td>\n",
              "      <td>1.702188e+00</td>\n",
              "    </tr>\n",
              "    <tr>\n",
              "      <th>1</th>\n",
              "      <td>-5.000000e+00</td>\n",
              "      <td>-1.702188e-02</td>\n",
              "      <td>1.531969e+00</td>\n",
              "      <td>-1.263200e+00</td>\n",
              "    </tr>\n",
              "    <tr>\n",
              "      <th>2</th>\n",
              "      <td>-5.018724e+00</td>\n",
              "      <td>1.452683e+00</td>\n",
              "      <td>5.482855e-01</td>\n",
              "      <td>-1.249321e+00</td>\n",
              "    </tr>\n",
              "    <tr>\n",
              "      <th>3</th>\n",
              "      <td>-3.420773e+00</td>\n",
              "      <td>1.840779e+00</td>\n",
              "      <td>-5.212749e-01</td>\n",
              "      <td>-2.121274e-01</td>\n",
              "    </tr>\n",
              "    <tr>\n",
              "      <th>4</th>\n",
              "      <td>-1.395916e+00</td>\n",
              "      <td>1.163611e+00</td>\n",
              "      <td>-7.643170e-01</td>\n",
              "      <td>4.528954e-01</td>\n",
              "    </tr>\n",
              "    <tr>\n",
              "      <th>...</th>\n",
              "      <td>...</td>\n",
              "      <td>...</td>\n",
              "      <td>...</td>\n",
              "      <td>...</td>\n",
              "    </tr>\n",
              "    <tr>\n",
              "      <th>95</th>\n",
              "      <td>-1.855920e-18</td>\n",
              "      <td>1.097460e-18</td>\n",
              "      <td>-1.592936e-19</td>\n",
              "      <td>-4.843645e-19</td>\n",
              "    </tr>\n",
              "    <tr>\n",
              "      <th>96</th>\n",
              "      <td>-6.487133e-19</td>\n",
              "      <td>8.412290e-19</td>\n",
              "      <td>-6.111510e-19</td>\n",
              "      <td>3.189634e-19</td>\n",
              "    </tr>\n",
              "    <tr>\n",
              "      <th>97</th>\n",
              "      <td>2.766386e-19</td>\n",
              "      <td>1.733230e-19</td>\n",
              "      <td>-3.851990e-19</td>\n",
              "      <td>4.316642e-19</td>\n",
              "    </tr>\n",
              "    <tr>\n",
              "      <th>98</th>\n",
              "      <td>4.672940e-19</td>\n",
              "      <td>-2.142650e-19</td>\n",
              "      <td>-3.522116e-20</td>\n",
              "      <td>1.881712e-19</td>\n",
              "    </tr>\n",
              "    <tr>\n",
              "      <th>99</th>\n",
              "      <td>2.316025e-19</td>\n",
              "      <td>-2.281803e-19</td>\n",
              "      <td>1.306108e-19</td>\n",
              "      <td>-3.689071e-20</td>\n",
              "    </tr>\n",
              "  </tbody>\n",
              "</table>\n",
              "<p>100 rows × 4 columns</p>\n",
              "</div>"
            ],
            "text/plain": [
              "                  x             v             a             u\n",
              "index                                                        \n",
              "0     -5.000000e+00  0.000000e+00  0.000000e+00  1.702188e+00\n",
              "1     -5.000000e+00 -1.702188e-02  1.531969e+00 -1.263200e+00\n",
              "2     -5.018724e+00  1.452683e+00  5.482855e-01 -1.249321e+00\n",
              "3     -3.420773e+00  1.840779e+00 -5.212749e-01 -2.121274e-01\n",
              "4     -1.395916e+00  1.163611e+00 -7.643170e-01  4.528954e-01\n",
              "...             ...           ...           ...           ...\n",
              "95    -1.855920e-18  1.097460e-18 -1.592936e-19 -4.843645e-19\n",
              "96    -6.487133e-19  8.412290e-19 -6.111510e-19  3.189634e-19\n",
              "97     2.766386e-19  1.733230e-19 -3.851990e-19  4.316642e-19\n",
              "98     4.672940e-19 -2.142650e-19 -3.522116e-20  1.881712e-19\n",
              "99     2.316025e-19 -2.281803e-19  1.306108e-19 -3.689071e-20\n",
              "\n",
              "[100 rows x 4 columns]"
            ]
          },
          "execution_count": 1,
          "metadata": {},
          "output_type": "execute_result"
        }
      ],
      "source": [
        "# YOUR CHANGES HERE\n",
        "import control\n",
        "import numpy as np\n",
        "import matplotlib.pyplot as plt\n",
        "import pandas as pd\n",
        "\n",
        "A = pd.read_csv(\"model-A.tsv\", sep=\"\\t\").set_index(\"index\")\n",
        "B = pd.read_csv(\"model-B.tsv\", sep=\"\\t\").set_index(\"index\")\n",
        "Q = pd.read_csv(\"cost-Q.tsv\", sep=\"\\t\").set_index(\"index\")\n",
        "R = pd.read_csv(\"cost-R.tsv\", sep=\"\\t\").set_index(\"index\")\n",
        "qc_log = pd.read_csv(\"qc-log.tsv\", sep=\"\\t\").set_index(\"index\")\n",
        "qc_train = pd.read_csv(\"qc-train.tsv\", sep=\"\\t\").set_index(\"index\")\n",
        "\n",
        "K, P, _ = control.dlqr(A, B, Q, R)\n",
        "K_vec = np.asarray(K).ravel()\n",
        "\n",
        "qc_log"
      ]
    },
    {
      "cell_type": "markdown",
      "metadata": {
        "id": "BDS1s6W9m5G1"
      },
      "source": [
        "Save $\\mathbf{K}$ in a file \"control-K-intended.tsv\" with columns x, v and a."
      ]
    },
    {
      "cell_type": "code",
      "execution_count": 2,
      "metadata": {
        "id": "heCP8JhgnEIC"
      },
      "outputs": [],
      "source": [
        "# YOUR CHANGES HERE\n",
        "\n",
        "df_K = pd.DataFrame([K_vec], columns=[\"x\", \"v\", \"a\"])\n",
        "df_K.to_csv(\"control-K-intended.tsv\", sep=\"\\t\", index=False)\n",
        "\n"
      ]
    },
    {
      "cell_type": "markdown",
      "metadata": {
        "id": "emwSwtKjnG8y"
      },
      "source": [
        "Submit \"control-K-intended.tsv\" in Gradescope."
      ]
    },
    {
      "cell_type": "markdown",
      "metadata": {
        "id": "fqbtALHx_z7l"
      },
      "source": [
        "## Part 2: Recompute the Actions for the Logged States\n",
        "\n",
        "You get access to the log data for the prototype as the file \"qc-log.tsv\".\n",
        "It conveniently saves all the state and actions made.\n",
        "Recompute the actions based on your $\\mathbf{K}$ matrix computed in part 1."
      ]
    },
    {
      "cell_type": "code",
      "execution_count": 3,
      "metadata": {
        "id": "DsbCg2TjoFpp"
      },
      "outputs": [],
      "source": [
        "# YOUR CHANGES HERE\n",
        "\n",
        "X = qc_log[[\"x\",\"v\",\"a\"]].to_numpy(float)\n",
        "u_check = -(X @ K_vec.reshape(-1,1)).ravel()\n"
      ]
    },
    {
      "cell_type": "markdown",
      "metadata": {
        "id": "6Z2gHEGBoIjL"
      },
      "source": [
        "Save your computed actions as \"qc-check.tsv\" with columns \"index\" and \"u_check\"."
      ]
    },
    {
      "cell_type": "code",
      "execution_count": 4,
      "metadata": {
        "id": "vbyMYtMLoS72"
      },
      "outputs": [],
      "source": [
        "# YOUR CHANGES HERE\n",
        "\n",
        "qc_check = pd.DataFrame({\n",
        "    \"index\": qc_log.index.to_numpy(),\n",
        "    \"u_check\": u_check\n",
        "})\n",
        "qc_check.to_csv(\"qc-check.tsv\", sep=\"\\t\", index=False)\n"
      ]
    },
    {
      "cell_type": "markdown",
      "metadata": {
        "id": "PDCUyNOfoUzm"
      },
      "source": [
        "Submit \"qc-check.tsv\" in Gradescope."
      ]
    },
    {
      "cell_type": "markdown",
      "metadata": {
        "id": "7Z20uZNHABA-"
      },
      "source": [
        "## Part 3: Reverse Engineer the Actual Control Matrix\n",
        "\n",
        "Now that you have found a systematic difference between your computed actions and the logged actions, estimate $\n",
        "$, the control matrix that was actually used to choose actions in the prototype."
      ]
    },
    {
      "cell_type": "markdown",
      "metadata": {
        "id": "lGoHdtel2iVm"
      },
      "source": [
        "Hint: With a linear quadratic regulator, the optimal actions are always linear combinations of the state that are calculated using the control matrix.\n",
        "You can use linear regression to reverse-engineer the coefficients in the control matrix."
      ]
    },
    {
      "cell_type": "code",
      "execution_count": 5,
      "metadata": {
        "id": "Ab7XnMej21RN"
      },
      "outputs": [],
      "source": [
        "# YOUR CHANGES HERE\n",
        "\n",
        "u = qc_log[\"u\"].to_numpy(float).reshape(-1, 1)\n",
        "k_hat, *_ = np.linalg.lstsq(X, u, rcond=None)\n",
        "K_actual = (-k_hat.ravel())  \n",
        "u_hat = -(X @ K_actual.reshape(-1,1)).ravel()\n",
        "mae = np.mean(np.abs(u_hat - u.ravel()))"
      ]
    },
    {
      "cell_type": "markdown",
      "metadata": {
        "id": "M7zG_6NT23fq"
      },
      "source": [
        "Save $\\mathbf{K}_{\\mathrm{actual}}$ in \"control-K-actual.tsv\" with the same format as \"control-K-intended.tsv\"."
      ]
    },
    {
      "cell_type": "code",
      "execution_count": 6,
      "metadata": {
        "id": "hPAaZI3M3DKB"
      },
      "outputs": [],
      "source": [
        "# YOUR CHANGES HERE\n",
        "\n",
        "df_K_actual = pd.DataFrame([K_actual], columns=[\"x\", \"v\", \"a\"])\n",
        "df_K_actual.insert(0, \"index\", \"u\")\n",
        "df_K_actual.to_csv(\"control-K-actual.tsv\", sep=\"\\t\", index=False)"
      ]
    },
    {
      "cell_type": "markdown",
      "metadata": {
        "id": "EFmODg3W3D2u"
      },
      "source": [
        "Submit \"actual-K.tsv\" in Gradescope."
      ]
    },
    {
      "cell_type": "markdown",
      "metadata": {
        "id": "wSuXyz6LAYjK"
      },
      "source": [
        "## Part 4: Recompute the System Dynamics from the Log Data\n",
        "\n",
        "On further investigation, it turns out that the control matrix $\\mathbf{K}$ in the prototype was modified to compensate for state prediction errors.\n",
        "You would like to recompute the $\\mathbf{A}$ and $\\mathbf{B}$ matrices using the log data since they are used to predict the next states.\n",
        "However, since the action vector $\\mathbf{u}_t$ is linearly dependent on the state via $\\mathbf{u}_t=-\\mathbf{K} \\mathbf{x}_t$, you need a new data set so you can separate the effects of the $\\mathbf{A}$ and $\\mathbf{B}$ matrices.\n",
        "Your co-workers kindly provide a new file \"qc-train.tsv\" where noise was added to each action.\n",
        "Estimate the true $\\mathbf{A}$ and $\\mathbf{B}$ matrices based on this file."
      ]
    },
    {
      "cell_type": "code",
      "execution_count": 7,
      "metadata": {
        "id": "13UYre915olG"
      },
      "outputs": [],
      "source": [
        "# YOUR CHANGES HERE\n",
        "\n",
        "X_t   = qc_train[[\"x\", \"v\", \"a\"]].to_numpy(float)[:-1]\n",
        "U_t   = qc_train[[\"u\"]].to_numpy(float)[:-1]\n",
        "X_tp1 = qc_train[[\"x\", \"v\", \"a\"]].to_numpy(float)[1:]\n",
        "\n",
        "phi = np.hstack([X_t, U_t])\n",
        "theta, *_ = np.linalg.lstsq(phi, X_tp1, rcond=None)\n",
        "\n",
        "A_new = theta[:3, :].T\n",
        "B_new = theta[3:, :].T\n"
      ]
    },
    {
      "cell_type": "markdown",
      "metadata": {
        "id": "_Sxidkjb5phM"
      },
      "source": [
        "Save $\\mathbf{A}$ and $\\mathbf{B}$ to \"model-A-new.tsv\" and \"model-B-new.tsv\" respectively."
      ]
    },
    {
      "cell_type": "code",
      "execution_count": 8,
      "metadata": {
        "id": "LzcREdX_5pFS"
      },
      "outputs": [],
      "source": [
        "# YOUR CHANGES HERE\n",
        "\n",
        "df_A = pd.DataFrame(A_new, index=[\"x\",\"v\",\"a\"], columns=[\"x\",\"v\",\"a\"])\n",
        "df_A.insert(0, \"index\", df_A.index)\n",
        "df_A.to_csv(\"model-A-new.tsv\", sep=\"\\t\", index=False)\n",
        "\n",
        "df_B = pd.DataFrame(B_new, index=[\"x\",\"v\",\"a\"], columns=[\"u\"])\n",
        "df_B.insert(0, \"index\", df_B.index)\n",
        "df_B.to_csv(\"model-B-new.tsv\", sep=\"\\t\", index=False)"
      ]
    },
    {
      "cell_type": "markdown",
      "metadata": {
        "id": "UNkBsDgD5vIn"
      },
      "source": [
        "Submit \"model-A-new.tsv\" and \"model-B-new.tsv\" in Gradescope."
      ]
    },
    {
      "cell_type": "markdown",
      "metadata": {
        "id": "smsTLuFcvR-I"
      },
      "source": [
        "## Part 5: Code\n",
        "\n",
        "Please submit a Jupyter notebook that can reproduce all your calculations and recreate the previously submitted files.\n",
        "You do not need to provide code for data collection if you did that by manually."
      ]
    },
    {
      "cell_type": "markdown",
      "metadata": {
        "id": "zi8lV2pbvWMs"
      },
      "source": [
        "## Part 6: Acknowledgements\n",
        "\n",
        "If you discussed this assignment with anyone, please acknowledge them here.\n",
        "If you did this assignment completely on your own, simply write none below.\n",
        "\n",
        "If you used any libraries not mentioned in this module's content, please list them with a brief explanation what you used them for. If you did not use any other libraries, simply write none below.\n",
        "\n",
        "If you used any generative AI tools, please add links to your transcripts below, and any other information that you feel is necessary to comply with the generative AI policy. If you did not use any generative AI tools, simply write none below.\n",
        "\n",
        "NONE"
      ]
    }
  ],
  "metadata": {
    "colab": {
      "toc_visible": false
    },
    "kernelspec": {
      "display_name": "Python 3",
      "name": "python3"
    },
    "language_info": {
      "codemirror_mode": {
        "name": "ipython",
        "version": 3
      },
      "file_extension": ".py",
      "mimetype": "text/x-python",
      "name": "python",
      "nbconvert_exporter": "python",
      "pygments_lexer": "ipython3",
      "version": "3.12.1"
    }
  },
  "nbformat": 4,
  "nbformat_minor": 0
}
