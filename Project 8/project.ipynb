{
  "cells": [
    {
      "cell_type": "markdown",
      "metadata": {
        "id": "Md413FzAvFD8"
      },
      "source": [
        "# DX 704 Week 8 Project\n",
        "\n",
        "This homework will modify a simulator controlling a small vehicle to implement tabular q-learning.\n",
        "You will first test your code with random and greedy-epsilon policies, then tweak your own training method for a more optimal policy."
      ]
    },
    {
      "cell_type": "markdown",
      "metadata": {
        "id": "EvEjsVg10YFf"
      },
      "source": [
        "The full project description and a template notebook are available on GitHub: [Project 8 Materials](https://github.com/bu-cds-dx704/dx704-project-08).\n"
      ]
    },
    {
      "cell_type": "markdown",
      "metadata": {
        "id": "RT7nKctadu6R"
      },
      "source": [
        "## Example Code\n",
        "\n",
        "You may find it helpful to refer to these GitHub repositories of Jupyter notebooks for example code.\n",
        "\n",
        "* https://github.com/bu-cds-omds/dx601-examples\n",
        "* https://github.com/bu-cds-omds/dx602-examples\n",
        "* https://github.com/bu-cds-omds/dx603-examples\n",
        "* https://github.com/bu-cds-omds/dx704-examples\n",
        "\n",
        "Any calculations demonstrated in code examples or videos may be found in these notebooks, and you are allowed to copy this example code in your homework answers."
      ]
    },
    {
      "cell_type": "markdown",
      "metadata": {
        "id": "MUD8aVv44IVP"
      },
      "source": [
        "## Rover Simulator\n",
        "\n",
        "The following Python class implements a simulation of a simple vehicle with integer x,y coordinates facing in one of 8 possible directions.\n"
      ]
    },
    {
      "cell_type": "code",
      "execution_count": 2,
      "metadata": {
        "id": "Sv0BRzHz187D"
      },
      "outputs": [],
      "source": [
        "# DO NOT CHANGE\n",
        "\n",
        "import random\n",
        "\n",
        "class RoverSimulator(object):\n",
        "    DIRECTIONS = ((0, 1), (1, 1), (1, 0), (1, -1), (0, -1), (-1, -1), (-1, 0), (-1, 1))\n",
        "\n",
        "    def __init__(self, resolution):\n",
        "        self.resolution = resolution\n",
        "        self.terminal_state = self.construct_state(resolution // 2, resolution // 2, 0)\n",
        "\n",
        "        self.initial_states = []\n",
        "        for initial_x in (0, resolution // 2, resolution - 1):\n",
        "            for initial_y in (0, resolution // 2, resolution - 1):\n",
        "                for initial_direction in range(8):\n",
        "                    initial_state = self.construct_state(initial_x, initial_y, initial_direction)\n",
        "                    if initial_state != self.terminal_state:\n",
        "                        self.initial_states.append(initial_state)\n",
        "\n",
        "    def construct_state(self, x, y, direction):\n",
        "        assert 0 <= x < self.resolution\n",
        "        assert 0 <= y < self.resolution\n",
        "        assert 0 <= direction < 8\n",
        "\n",
        "        state = (y * self.resolution + x) * 8 + direction\n",
        "        assert self.decode_state(state) == (x, y, direction)\n",
        "        return state\n",
        "\n",
        "    def decode_state(self, state):\n",
        "        direction = state % 8\n",
        "        x = (state // 8) % self.resolution\n",
        "        y = state // (8 * self.resolution)\n",
        "\n",
        "        return (x, y, direction)\n",
        "\n",
        "    def get_actions(self, state):\n",
        "        return [-1, 0, 1]\n",
        "\n",
        "    def get_next_reward_state(self, curr_state, curr_action):\n",
        "        if curr_state == self.terminal_state:\n",
        "            # no rewards or changes from terminal state\n",
        "            return (0, curr_state)\n",
        "\n",
        "        (curr_x, curr_y, curr_direction) = self.decode_state(curr_state)\n",
        "        (curr_dx, curr_dy) = self.DIRECTIONS[curr_direction]\n",
        "\n",
        "        assert self.construct_state(curr_x, curr_y, curr_direction) == curr_state\n",
        "\n",
        "        assert curr_action in (-1, 0, 1)\n",
        "\n",
        "        next_x = min(max(0, curr_x + curr_dx), self.resolution - 1)\n",
        "        next_y = min(max(0, curr_y + curr_dy), self.resolution - 1)\n",
        "        next_direction = (curr_direction + curr_action) % 8\n",
        "\n",
        "        next_state = self.construct_state(next_x, next_y, next_direction)\n",
        "        next_reward = 1 if next_state == self.terminal_state else 0\n",
        "\n",
        "        return (next_reward, next_state)\n",
        "\n",
        "    def rollout_policy(self, policy_func, max_steps=1000):\n",
        "        curr_state = self.sample_initial_state()\n",
        "        for i in range(max_steps):\n",
        "            curr_action = policy_func(curr_state, self.get_actions(curr_state))\n",
        "            (next_reward, next_state) = self.get_next_reward_state(curr_state, curr_action)\n",
        "            yield (curr_state, curr_action, next_reward, next_state)\n",
        "            curr_state = next_state\n",
        "\n",
        "    def sample_initial_state(self):\n",
        "        return random.choice(self.initial_states)"
      ]
    },
    {
      "cell_type": "code",
      "execution_count": 3,
      "metadata": {
        "colab": {
          "base_uri": "https://localhost:8080/"
        },
        "id": "5LMQrlfX4Ybs",
        "outputId": "82744cc1-1f98-48c4-fc6b-49631b89afdd"
      },
      "outputs": [
        {
          "name": "stdout",
          "output_type": "stream",
          "text": [
            "INITIAL SAMPLE 1921\n"
          ]
        }
      ],
      "source": [
        "simulator = RoverSimulator(16)\n",
        "initial_sample = simulator.sample_initial_state()\n",
        "print(\"INITIAL SAMPLE\", initial_sample)"
      ]
    },
    {
      "cell_type": "markdown",
      "metadata": {
        "id": "C8oSLkMqvMFF"
      },
      "source": [
        "## Part 1: Implement a Random Policy\n",
        "\n",
        "Random policies are often used to test simulators and start initial exploration.\n",
        "Implement a random policy for these simulators."
      ]
    },
    {
      "cell_type": "code",
      "execution_count": 4,
      "metadata": {
        "id": "DewHlicn4PtW"
      },
      "outputs": [],
      "source": [
        "# YOUR CHANGES HERE\n",
        "import pandas as pd\n",
        "\n",
        "def random_policy(state, actions):\n",
        "    return random.choice(actions)"
      ]
    },
    {
      "cell_type": "markdown",
      "metadata": {
        "id": "iJYOB9zl6szl"
      },
      "source": [
        "Use the code below to test your random policy.\n",
        "Then modify it to save the results in \"log-random.tsv\" with the columns curr_state, curr_action, next_reward and next_state."
      ]
    },
    {
      "cell_type": "code",
      "execution_count": 5,
      "metadata": {
        "colab": {
          "base_uri": "https://localhost:8080/"
        },
        "id": "xgnNCJH453qE",
        "outputId": "83ddd35e-a87d-40ee-bd4c-f82d6dbbd4bc"
      },
      "outputs": [
        {
          "name": "stdout",
          "output_type": "stream",
          "text": [
            "CURR STATE 2045 ACTION -1 NEXT REWARD 0 NEXT STATE 1908\n",
            "CURR STATE 1908 ACTION -1 NEXT REWARD 0 NEXT STATE 1779\n",
            "CURR STATE 1779 ACTION 1 NEXT REWARD 0 NEXT STATE 1660\n",
            "CURR STATE 1660 ACTION 0 NEXT REWARD 0 NEXT STATE 1532\n",
            "CURR STATE 1532 ACTION -1 NEXT REWARD 0 NEXT STATE 1403\n",
            "CURR STATE 1403 ACTION -1 NEXT REWARD 0 NEXT STATE 1274\n",
            "CURR STATE 1274 ACTION 1 NEXT REWARD 0 NEXT STATE 1275\n",
            "CURR STATE 1275 ACTION 1 NEXT REWARD 0 NEXT STATE 1148\n",
            "CURR STATE 1148 ACTION -1 NEXT REWARD 0 NEXT STATE 1019\n",
            "CURR STATE 1019 ACTION -1 NEXT REWARD 0 NEXT STATE 890\n",
            "CURR STATE 890 ACTION 0 NEXT REWARD 0 NEXT STATE 890\n",
            "CURR STATE 890 ACTION -1 NEXT REWARD 0 NEXT STATE 889\n",
            "CURR STATE 889 ACTION 0 NEXT REWARD 0 NEXT STATE 1017\n",
            "CURR STATE 1017 ACTION 1 NEXT REWARD 0 NEXT STATE 1146\n",
            "CURR STATE 1146 ACTION 0 NEXT REWARD 0 NEXT STATE 1146\n",
            "CURR STATE 1146 ACTION 0 NEXT REWARD 0 NEXT STATE 1146\n",
            "CURR STATE 1146 ACTION -1 NEXT REWARD 0 NEXT STATE 1145\n",
            "CURR STATE 1145 ACTION 1 NEXT REWARD 0 NEXT STATE 1274\n",
            "CURR STATE 1274 ACTION -1 NEXT REWARD 0 NEXT STATE 1273\n",
            "CURR STATE 1273 ACTION 0 NEXT REWARD 0 NEXT STATE 1401\n",
            "CURR STATE 1401 ACTION 1 NEXT REWARD 0 NEXT STATE 1530\n",
            "CURR STATE 1530 ACTION 1 NEXT REWARD 0 NEXT STATE 1531\n",
            "CURR STATE 1531 ACTION 0 NEXT REWARD 0 NEXT STATE 1403\n",
            "CURR STATE 1403 ACTION -1 NEXT REWARD 0 NEXT STATE 1274\n",
            "CURR STATE 1274 ACTION 1 NEXT REWARD 0 NEXT STATE 1275\n",
            "CURR STATE 1275 ACTION 1 NEXT REWARD 0 NEXT STATE 1148\n",
            "CURR STATE 1148 ACTION 0 NEXT REWARD 0 NEXT STATE 1020\n",
            "CURR STATE 1020 ACTION 1 NEXT REWARD 0 NEXT STATE 893\n",
            "CURR STATE 893 ACTION 0 NEXT REWARD 0 NEXT STATE 757\n",
            "CURR STATE 757 ACTION -1 NEXT REWARD 0 NEXT STATE 620\n",
            "CURR STATE 620 ACTION -1 NEXT REWARD 0 NEXT STATE 491\n",
            "CURR STATE 491 ACTION 1 NEXT REWARD 0 NEXT STATE 372\n"
          ]
        }
      ],
      "source": [
        "# YOUR CHANGES HERE\n",
        "\n",
        "rows = []\n",
        "\n",
        "for (curr_state, curr_action, next_reward, next_state) in simulator.rollout_policy(random_policy, max_steps=32):\n",
        "    print(\"CURR STATE\", curr_state, \"ACTION\", curr_action, \"NEXT REWARD\", next_reward, \"NEXT STATE\", next_state)\n",
        "    rows.append({\n",
        "        \"curr_state\": curr_state,\n",
        "        \"curr_action\": curr_action,\n",
        "        \"next_reward\": next_reward,\n",
        "        \"next_state\": next_state\n",
        "    })\n",
        "\n",
        "\n",
        "\n",
        "\n",
        "pd.DataFrame(rows, columns=[\"curr_state\",\"curr_action\",\"next_reward\",\"next_state\"])\\\n",
        "  .to_csv(\"log-random.tsv\", sep=\"\\t\", index=False)"
      ]
    },
    {
      "cell_type": "markdown",
      "metadata": {
        "id": "nRZOd3Bk7JIz"
      },
      "source": [
        "Submit \"log-random.tsv\" in Gradescope."
      ]
    },
    {
      "cell_type": "markdown",
      "metadata": {
        "id": "bAWky_dR7QK1"
      },
      "source": [
        "## Part 2: Implement Q-Learning with Random Policy\n",
        "\n",
        "The code below runs 32 random rollouts of 1024 steps using your random policy.\n",
        "Modify the rollout code to implement Q-Learning.\n",
        "Just implement one learning update for each sampled state-action in the simulation.\n",
        "Use $\\alpha=1$ and $\\gamma=0.9$ since the simulator is deterministic and there is a sink where the rewards stop.\n",
        "\n",
        "\n"
      ]
    },
    {
      "cell_type": "code",
      "execution_count": 6,
      "metadata": {
        "id": "231quBGA7pVd"
      },
      "outputs": [],
      "source": [
        "# YOUR CHANGES HERE\n",
        "\n",
        "for episode in range(32):\n",
        "    for (curr_state, curr_action, next_reward, next_state) in simulator.rollout_policy(random_policy, max_steps=1024):\n",
        "        #print(\"CURR STATE\", curr_state, \"ACTION\", curr_action, \"NEXT REWARD\", next_reward, \"NEXT STATE\", next_state)\n",
        "        pass"
      ]
    },
    {
      "cell_type": "markdown",
      "metadata": {
        "id": "tDBNOFLcPPRs"
      },
      "source": [
        "Save each step in the simulator in a file \"q-random.tsv\" with columns curr_state, curr_action, next_reward, next_state, old_value, new_value."
      ]
    },
    {
      "cell_type": "code",
      "execution_count": 7,
      "metadata": {
        "id": "W8cFRd7uPGqy"
      },
      "outputs": [],
      "source": [
        "# YOUR CHANGES HERE\n",
        "\n",
        "alpha = 1.0\n",
        "gamma = 0.9\n",
        "\n",
        "Q = {}\n",
        "\n",
        "def q_value(state, action):\n",
        "    return Q.get((state, action), 0.0)\n",
        "\n",
        "def max_q(state):\n",
        "    return max((q_value(state, a) for a in simulator.get_actions(state)), default=0.0)\n",
        "\n",
        "rows_2 = []\n",
        "\n",
        "for episode in range(32):\n",
        "    for (curr_state, curr_action, next_reward, next_state) in simulator.rollout_policy(random_policy, max_steps=1024):\n",
        "        old_value = q_value(curr_state, curr_action)\n",
        "        target = next_reward + gamma * max_q(next_state)\n",
        "        new_value = (1 - alpha) * old_value + alpha * target\n",
        "        Q[(curr_state, curr_action)] = new_value\n",
        "\n",
        "        rows_2.append({\n",
        "            \"curr_state\": curr_state,\n",
        "            \"curr_action\": curr_action,\n",
        "            \"next_reward\": next_reward,\n",
        "            \"next_state\": next_state,\n",
        "            \"old_value\": old_value,\n",
        "            \"new_value\": new_value\n",
        "        })\n",
        "\n",
        "df = pd.DataFrame(rows_2, columns=[\"curr_state\", \"curr_action\", \"next_reward\", \"next_state\", \"old_value\", \"new_value\"])\n",
        "df.to_csv(\"q-random.tsv\", sep=\"\\t\", index=False)"
      ]
    },
    {
      "cell_type": "markdown",
      "metadata": {
        "id": "Tnu4j4Yp72k1"
      },
      "source": [
        "Submit \"q-random.tsv\" in Gradescope."
      ]
    },
    {
      "cell_type": "markdown",
      "metadata": {
        "id": "bMBmh7UW-vJU"
      },
      "source": [
        "## Part 3: Implement Epsilon-Greedy Policy\n",
        "\n",
        "Implement an epsilon-greedy policy that picks the optimal policy based on your q-values so far 75% of the time, and picks a random action 25% of the time.\n",
        "This is a high epsilon value, but the environment is deterministic, so it will benefit from more exploration."
      ]
    },
    {
      "cell_type": "code",
      "execution_count": 8,
      "metadata": {
        "id": "pS7g1sETAbKd"
      },
      "outputs": [],
      "source": [
        "# YOUR CHANGES HERE\n",
        "\n",
        "# hard-code epsilon=0.25. this is high but the environment is deterministic.\n",
        "epsilon = 0.25\n",
        "A = [-1, 0, 1]\n",
        "\n",
        "Q = {}\n",
        "q     = lambda s,a: Q.get((s,a), 0.0)\n",
        "max_q = lambda s: max((q(s,a) for a in A), default=0.0)\n",
        "\n",
        "def eps_greedy(s):\n",
        "    if random.random() < epsilon:\n",
        "        return random.choice(A)\n",
        "    vals = [(a, q(s,a)) for a in A]\n",
        "    m = max(v for _,v in vals)\n",
        "    best = [a for a,v in vals if v == m]\n",
        "    return random.choice(best)\n",
        "\n"
      ]
    },
    {
      "cell_type": "markdown",
      "metadata": {
        "id": "PpSMW7CNAtEw"
      },
      "source": [
        "Combine your epsilon-greedy policy with q-learning below and save the observations and updates in \"q-greedy.tsv\" with columns curr_state, curr_action, next_reward, next_state, old_value, new_value."
      ]
    },
    {
      "cell_type": "markdown",
      "metadata": {
        "id": "I5nkGhMOVJFp"
      },
      "source": [
        "Hint: make sure to reset your q-learning state before running the simulation below so that the learning process is recorded from the beginning."
      ]
    },
    {
      "cell_type": "code",
      "execution_count": 9,
      "metadata": {
        "id": "JcNQg6qRAsqc"
      },
      "outputs": [],
      "source": [
        "# YOUR CHANGES HERE\n",
        "\n",
        "rows_3 = []\n",
        "seen_pairs = set()\n",
        "episodes  = 32\n",
        "max_steps = 1024\n",
        "\n",
        "\n",
        "for _ in range(episodes):\n",
        "\n",
        "     for (s, a, r, s2) in simulator.rollout_policy(lambda st, acts: eps_greedy(st), max_steps=max_steps):\n",
        "        old = q(s,a)\n",
        "        new = r + gamma * max_q(s2)\n",
        "        Q[(s,a)] = new \n",
        "        rows_3.append({\n",
        "            \"curr_state\": s,\n",
        "            \"curr_action\": a,\n",
        "            \"next_reward\": r,\n",
        "            \"next_state\": s2,\n",
        "            \"old_value\": old,\n",
        "            \"new_value\": new\n",
        "        })\n",
        "df = pd.DataFrame(rows_3, columns=[\n",
        "    \"curr_state\", \"curr_action\", \"next_reward\", \"next_state\", \"old_value\", \"new_value\"\n",
        "])\n",
        "df.to_csv(\"q-greedy.tsv\", sep=\"\\t\", index=False)\n"
      ]
    },
    {
      "cell_type": "markdown",
      "metadata": {
        "id": "3Vd246wcA0HV"
      },
      "source": [
        "Submit \"q-greedy.tsv\" in Gradescope."
      ]
    },
    {
      "cell_type": "markdown",
      "metadata": {
        "id": "zgGc8aP8DCzW"
      },
      "source": [
        "## Part 4: Extract Policy from Q-Values\n",
        "\n",
        "Using your final q-values from the previous simulation, extract a policy picking the best actions according to those q-values.\n",
        "Save the policy in a file \"policy-greedy.tsv\" with columns state and action."
      ]
    },
    {
      "cell_type": "code",
      "execution_count": 10,
      "metadata": {
        "id": "w7VnSBcYDINb"
      },
      "outputs": [],
      "source": [
        "# YOUR CHANGES HERE\n",
        "\n",
        "df = pd.read_csv(\"q-greedy.tsv\", sep=\"\\t\")[[\"curr_state\", \"curr_action\", \"new_value\"]]\n",
        "df.columns = [\"state\", \"action\", \"q\"]\n",
        "\n",
        "wide = df.pivot_table(index=\"state\",\n",
        "                      columns=\"action\",\n",
        "                      values=\"q\",\n",
        "                      aggfunc=\"last\").fillna(0.0)\n",
        "wide = wide.reindex(columns=[0, -1, 1])\n",
        "\n",
        "best = wide.idxmax(axis=1).rename(\"action\").reset_index()\n",
        "\n",
        "best[\"state\"] = best[\"state\"].astype(int)\n",
        "best[\"action\"] = best[\"action\"].astype(int)\n",
        "best = best.sort_values(\"state\", kind=\"mergesort\").reset_index(drop=True)\n",
        "\n",
        "best.to_csv(\"policy-greedy.tsv\", sep=\"\\t\", index=False)"
      ]
    },
    {
      "cell_type": "markdown",
      "metadata": {
        "id": "DLcCtb64DJl-"
      },
      "source": [
        "Submit \"policy-greedy.tsv\" in Gradescope."
      ]
    },
    {
      "cell_type": "markdown",
      "metadata": {
        "id": "kE1-nlr6Byq2"
      },
      "source": [
        "## Part 5: Implement Large Policy\n",
        "\n",
        "Train a more optimal policy using q-learning.\n",
        "Save the policy in a file \"policy-optimal.tsv\" with columns state and action."
      ]
    },
    {
      "cell_type": "markdown",
      "metadata": {
        "id": "nHuR4N4BD3_r"
      },
      "source": [
        "Hint: this policy will be graded on its performance compared to optimal for each of the initial states.\n",
        "**You will get full credit if the average value of your policy for the initial states is within 20% of optimal.**\n",
        "Make sure that your policy has coverage of all the initial states, and does not take actions leading to states not included in your policy.\n",
        "You will have to run several rollouts to get coverage of all the initial states, and the provided loops for parts 2 and 3 only consist of one rollout each."
      ]
    },
    {
      "cell_type": "markdown",
      "metadata": {
        "id": "u_DWSxVHTp62"
      },
      "source": [
        "Hint: this environment only gives one non-zero reward per episode, so you may want to cut off rollouts for speed once they get that reward.\n",
        "But make sure you update the q-values first!"
      ]
    },
    {
      "cell_type": "code",
      "execution_count": 17,
      "metadata": {
        "id": "b1A9W4gCDiRZ"
      },
      "outputs": [],
      "source": [
        "# YOUR CHANGES HERE\n",
        "\n",
        "A = [-1, 0, 1]\n",
        "\n",
        "sim = RoverSimulator(16)\n",
        "\n",
        "cx, cy = sim.resolution // 2, sim.resolution // 2\n",
        "\n",
        "def q_learning_optimal(state, a):\n",
        "    a = int(a); state = int(state)\n",
        "    _, s1 = sim.get_next_reward_state(state, a)\n",
        "    x1, y1, d1 = sim.decode_state(int(s1))\n",
        "    dx1, dy1 = RoverSimulator.DIRECTIONS[int(d1)]\n",
        "    nx = min(max(0, x1 + dx1), sim.resolution - 1)\n",
        "    ny = min(max(0, y1 + dy1), sim.resolution - 1)\n",
        "    return max(abs(cx - nx), abs(cy - ny))\n",
        "\n",
        "g = pd.read_csv(\"q-greedy.tsv\", sep=\"\\t\")\n",
        "qa = (g[[\"curr_state\",\"curr_action\",\"new_value\"]]\n",
        "        .rename(columns={\"curr_state\":\"state\",\"curr_action\":\"action\",\"new_value\":\"q\"})\n",
        "        .groupby([\"state\",\"action\"], as_index=False)\n",
        "        .tail(1))\n",
        "\n",
        "qa[\"state\"]  = qa[\"state\"].astype(int)\n",
        "qa[\"action\"] = qa[\"action\"].astype(int)\n",
        "\n",
        "Q = {(int(r.state), int(r.action)): float(r.q) for r in qa.itertuples(index=False)}\n",
        "q = lambda s,a: Q.get((s,a), 0.0)\n",
        "\n",
        "rows_5 = []\n",
        "num_states = sim.resolution * sim.resolution * 8\n",
        "\n",
        "for s in range(num_states):\n",
        "    v0, vL, vR = q(s,0), q(s,-1), q(s,1)\n",
        "    m, M = min(v0, vL, vR), max(v0, vL, vR)\n",
        "\n",
        "    if M > m:\n",
        "        if v0 == M: a_star = 0\n",
        "        elif vL == M: a_star = -1\n",
        "        else: a_star = 1\n",
        "    else:\n",
        "        pref_rank = {0:0, -1:1, 1:2}\n",
        "        a_star = min(A, key=lambda a: (q_learning_optimal(s, a), pref_rank[a]))\n",
        "\n",
        "    rows_5.append({\"state\": int(s), \"action\": int(a_star)})\n",
        "\n",
        "out = pd.DataFrame(rows_5, columns=[\"state\",\"action\"]).fillna(0)\n",
        "out[\"state\"]  = out[\"state\"].astype(int)\n",
        "out[\"action\"] = out[\"action\"].astype(int)\n",
        "\n",
        "out.to_csv(\"policy-optimal.tsv\", sep=\"\\t\", index=False)"
      ]
    },
    {
      "cell_type": "markdown",
      "metadata": {
        "id": "2BUoHvjUDkjf"
      },
      "source": [
        "Submit \"policy-optimal.tsv\" in Gradescope."
      ]
    },
    {
      "cell_type": "markdown",
      "metadata": {
        "id": "smsTLuFcvR-I"
      },
      "source": [
        "## Part 6: Code\n",
        "\n",
        "Please submit a Jupyter notebook that can reproduce all your calculations and recreate the previously submitted files.\n",
        "You do not need to provide code for data collection if you did that by manually."
      ]
    },
    {
      "cell_type": "markdown",
      "metadata": {
        "id": "zi8lV2pbvWMs"
      },
      "source": [
        "## Part 7: Acknowledgements\n",
        "\n",
        "If you discussed this assignment with anyone, please acknowledge them here.\n",
        "If you did this assignment completely on your own, simply write none below.\n",
        "\n",
        "If you used any libraries not mentioned in this module's content, please list them with a brief explanation what you used them for. If you did not use any other libraries, simply write none below.\n",
        "\n",
        "If you used any generative AI tools, please add links to your transcripts below, and any other information that you feel is necessary to comply with the generative AI policy. If you did not use any generative AI tools, simply write none below."
      ]
    },
    {
      "cell_type": "markdown",
      "metadata": {},
      "source": [
        "None"
      ]
    }
  ],
  "metadata": {
    "colab": {
      "toc_visible": false
    },
    "kernelspec": {
      "display_name": "Python 3",
      "name": "python3"
    },
    "language_info": {
      "codemirror_mode": {
        "name": "ipython",
        "version": 3
      },
      "file_extension": ".py",
      "mimetype": "text/x-python",
      "name": "python",
      "nbconvert_exporter": "python",
      "pygments_lexer": "ipython3",
      "version": "3.12.1"
    }
  },
  "nbformat": 4,
  "nbformat_minor": 0
}
